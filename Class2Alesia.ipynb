{
  "nbformat": 4,
  "nbformat_minor": 0,
  "metadata": {
    "colab": {
      "provenance": [],
      "toc_visible": true,
      "authorship_tag": "ABX9TyO05Bj8VN5vlBFRN9mhdDUV",
      "include_colab_link": true
    },
    "kernelspec": {
      "name": "python3",
      "display_name": "Python 3"
    },
    "language_info": {
      "name": "python"
    }
  },
  "cells": [
    {
      "cell_type": "markdown",
      "metadata": {
        "id": "view-in-github",
        "colab_type": "text"
      },
      "source": [
        "<a href=\"https://colab.research.google.com/github/s22124/GS2DIT/blob/main/Class2Alesia.ipynb\" target=\"_parent\"><img src=\"https://colab.research.google.com/assets/colab-badge.svg\" alt=\"Open In Colab\"/></a>"
      ]
    },
    {
      "cell_type": "markdown",
      "source": [
        "#Code"
      ],
      "metadata": {
        "id": "hHA6V_sWrgr2"
      }
    },
    {
      "cell_type": "code",
      "source": [
        "a=1"
      ],
      "metadata": {
        "id": "Vi16Bi73saGc"
      },
      "execution_count": 1,
      "outputs": []
    },
    {
      "cell_type": "code",
      "source": [
        "b=2"
      ],
      "metadata": {
        "id": "n6d3IUi8seH9"
      },
      "execution_count": 2,
      "outputs": []
    },
    {
      "cell_type": "code",
      "source": [
        "a+b"
      ],
      "metadata": {
        "colab": {
          "base_uri": "https://localhost:8080/"
        },
        "id": "wupa7yW7siKU",
        "outputId": "c38cd18b-512a-4fe4-a39b-d8ee0c4c20be"
      },
      "execution_count": 3,
      "outputs": [
        {
          "output_type": "execute_result",
          "data": {
            "text/plain": [
              "3"
            ]
          },
          "metadata": {},
          "execution_count": 3
        }
      ]
    },
    {
      "cell_type": "markdown",
      "source": [
        "#Text"
      ],
      "metadata": {
        "id": "SerFKSshrhMe"
      }
    },
    {
      "cell_type": "markdown",
      "source": [
        "**Hello world**"
      ],
      "metadata": {
        "id": "U5EO0RlbtJOU"
      }
    },
    {
      "cell_type": "markdown",
      "source": [
        "*Hello world*"
      ],
      "metadata": {
        "id": "3EVFItz_sqqN"
      }
    },
    {
      "cell_type": "markdown",
      "source": [
        "`Hello world`"
      ],
      "metadata": {
        "id": "mCRhQkwItJbe"
      }
    }
  ]
}